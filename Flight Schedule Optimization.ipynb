{
 "cells": [
  {
   "cell_type": "markdown",
   "id": "f673b96aa0c3d325",
   "metadata": {
    "collapsed": false,
    "jupyter": {
     "outputs_hidden": false
    }
   },
   "source": [
    "# Problem Statement"
   ]
  },
  {
   "cell_type": "markdown",
   "id": "1fda3befed2a0bf9",
   "metadata": {
    "collapsed": false,
    "jupyter": {
     "outputs_hidden": false
    }
   },
   "source": [
    "## Objective: \n",
    "- Minimize the total operational cost, which includes costs associated with assigning flights to time slots and aircraft, as well as possible penalties for unmet constraints.\n",
    "## Constraints:\n",
    "- **Aircraft availability:** Each aircraft can only be used for one flight at a time.\n",
    "- **Flight schedule**\n",
    "- **Crew assignment:** Each aircraft must have at least one crew\n"
   ]
  },
  {
   "cell_type": "markdown",
   "id": "24dc7e959b6c03cc",
   "metadata": {
    "collapsed": false,
    "jupyter": {
     "outputs_hidden": false
    }
   },
   "source": [
    "# Mathematical Formulation"
   ]
  },
  {
   "cell_type": "markdown",
   "id": "cccd5d0576c08579",
   "metadata": {
    "collapsed": false,
    "jupyter": {
     "outputs_hidden": false
    }
   },
   "source": [
    "**Index**:\n",
    "- $i \\in F $: Set of flights\n",
    "- $a \\in A $: Set of aircraft\n",
    "- $t \\in T $: Set of time slot\n",
    "\n",
    "\n",
    "**Decision Variables**:\n",
    "- $ x_{it} $: Binary decision variable indicating flight $i$ is assigned to timeslot $t$\n",
    "- $ y_{ia} $: Binary decision variable indicating whether aircraft $a$ is used for flight $i$.\n",
    "\n",
    "**Parameters**:\n",
    "$c_{it}$: cost of assigning flight i to time slot t\n",
    "$\\tau_{ia}$: cost of using aircraft a for flight i\n",
    "$\\delta_i$: Duration of flight i\n",
    "$m_a$: maintenance requirement of aircraft a\n",
    "$\\alpha_a$: Available slot\n",
    "\n",
    "\n",
    "**Objective Function**: Minimize the total operational cost, \n",
    "which includes costs associated with assigning flights \n",
    "to time slots and aircraft\n",
    "$$ \\text{Minimize } \\sum_{i} \\sum_{t} c_{it }  x_{it} + \\sum_{i} \\sum_{a} \\tau_{ia} y_{ia} $$\n",
    "\n",
    "**Constraints**:\n",
    "1. **Flight Assignment**: \n",
    "Each flight must be assigned exactly one time slot.\n",
    "$$ \\sum_{t} x_{it} = 1  \\quad  \\forall i$$\n",
    "\n",
    "2. **Time Slot Capacity**:\n",
    "Each time slot can accommodate at most one flight.\n",
    "$$ \\sum_{i} x_{it} \\leq 1 \\quad \\forall t$$\n",
    "\n",
    "3. **Aircraft Assignment**: \n",
    "Each flight must be assigned exactly one aircraft\n",
    "$$ \\sum_{a} y_{ia} = 1 \\quad \\forall i$$\n",
    "\n",
    "4. **Aircraft Availability**: \n",
    "Each aircraft can handle only one flight at a time.\n",
    "$$ \\sum_{i} y_{ia} \\leq \\alpha_a \\quad \\forall a$$\n",
    "\n",
    "5. **Maintenance Scheduling**: \n",
    "Ensure aircraft maintenance requirements are met.\n",
    "$$ \\sum_{i,t:t<=$\\delta_i$} y_{ia}*\\delta_i \\leq m_a \\quad \\forall a$$\n",
    "\n",
    "6. **Range Constraint**\n",
    "$$ x_{it}, y_{ia} = \\{0,1\\}  $$"
   ]
  },
  {
   "cell_type": "markdown",
   "id": "2b028849ef573bb3",
   "metadata": {
    "collapsed": false,
    "jupyter": {
     "outputs_hidden": false
    }
   },
   "source": [
    "# Pyomo implementation"
   ]
  },
  {
   "cell_type": "code",
   "execution_count": 3,
   "id": "a0bc4feb110a3c28",
   "metadata": {
    "ExecuteTime": {
     "end_time": "2024-07-11T23:38:02.860268Z",
     "start_time": "2024-07-11T23:38:02.640652Z"
    },
    "collapsed": false,
    "jupyter": {
     "outputs_hidden": false
    }
   },
   "outputs": [
    {
     "name": "stdout",
     "output_type": "stream",
     "text": [
      "GLPSOL: GLPK LP/MIP Solver, v4.65\n",
      "Parameter(s) specified in the command line:\n",
      " --write C:\\Users\\HP\\AppData\\Local\\Temp\\tmp1_lechmb.glpk.raw --wglp C:\\Users\\HP\\AppData\\Local\\Temp\\tmpk_xuxsu8.glpk.glp\n",
      " --cpxlp C:\\Users\\HP\\AppData\\Local\\Temp\\tmp9vka_tu4.pyomo.lp\n",
      "Reading problem data from 'C:\\Users\\HP\\AppData\\Local\\Temp\\tmp9vka_tu4.pyomo.lp'...\n",
      "C:\\Users\\HP\\AppData\\Local\\Temp\\tmp9vka_tu4.pyomo.lp:115: warning: lower bound of variable 'x2' redefined\n",
      "C:\\Users\\HP\\AppData\\Local\\Temp\\tmp9vka_tu4.pyomo.lp:115: warning: upper bound of variable 'x2' redefined\n",
      "13 rows, 15 columns, 36 non-zeros\n",
      "15 integer variables, all of which are binary\n",
      "130 lines were read\n",
      "Writing problem data to 'C:\\Users\\HP\\AppData\\Local\\Temp\\tmpk_xuxsu8.glpk.glp'...\n",
      "95 lines were written\n",
      "GLPK Integer Optimizer, v4.65\n",
      "13 rows, 15 columns, 36 non-zeros\n",
      "15 integer variables, all of which are binary\n",
      "Preprocessing...\n",
      "4 hidden covering inequaliti(es) were detected\n",
      "13 rows, 15 columns, 36 non-zeros\n",
      "15 integer variables, all of which are binary\n",
      "Scaling...\n",
      " A: min|aij| =  1.000e+00  max|aij| =  1.000e+00  ratio =  1.000e+00\n",
      "Problem data seem to be well scaled\n",
      "Constructing initial basis...\n",
      "Size of triangular part is 13\n",
      "Solving LP relaxation...\n",
      "GLPK Simplex Optimizer, v4.65\n",
      "13 rows, 15 columns, 36 non-zeros\n",
      "      0: obj =   2.244000000e+05 inf =   4.000e+00 (3)\n",
      "      5: obj =   1.913000000e+05 inf =   0.000e+00 (0)\n",
      "*     8: obj =   1.912000000e+05 inf =   0.000e+00 (0)\n",
      "OPTIMAL LP SOLUTION FOUND\n",
      "Integer optimization begins...\n",
      "Long-step dual simplex will be used\n",
      "+     8: mip =     not found yet >=              -inf        (1; 0)\n",
      "+     8: >>>>>   1.912000000e+05 >=   1.912000000e+05   0.0% (1; 0)\n",
      "+     8: mip =   1.912000000e+05 >=     tree is empty   0.0% (0; 1)\n",
      "INTEGER OPTIMAL SOLUTION FOUND\n",
      "Time used:   0.0 secs\n",
      "Memory used: 0.1 Mb (59589 bytes)\n",
      "Writing MIP solution to 'C:\\Users\\HP\\AppData\\Local\\Temp\\tmp1_lechmb.glpk.raw'...\n",
      "37 lines were written\n",
      "Flight F1 is assigned to time slot T1\n",
      "Flight F1 is assigned to aircraft A1\n",
      "Flight F2 is assigned to time slot T2\n",
      "Flight F2 is assigned to aircraft A1\n",
      "Flight F3 is assigned to time slot T3\n",
      "Flight F3 is assigned to aircraft A2\n"
     ]
    }
   ],
   "source": [
    "from pyomo.environ import ConcreteModel, Var, Constraint, Set, Binary, Objective, minimize\n",
    "from pyomo.opt import SolverFactory\n",
    "\n",
    "# Sample data\n",
    "flights = ['F1', 'F2', 'F3']\n",
    "time_slots = ['T1', 'T2', 'T3']\n",
    "aircraft = ['A1', 'A2']\n",
    "costs = {\n",
    "    ('F1', 'T1'): 61000, ('F1', 'T2'): 52000, ('F1', 'T3'): 73000,\n",
    "    ('F2', 'T1'): 62000, ('F2', 'T2'): 51500, ('F2', 'T3'): 72500,\n",
    "    ('F3', 'T1'): 63000, ('F3', 'T2'): 52500, ('F3', 'T3'): 71000\n",
    "}\n",
    "aircraft_flight_costs = {\n",
    "    ('A1', 'F1'): 2500, ('A1', 'F2'): 1700, ('A1', 'F3'): 3600,\n",
    "    ('A2', 'F1'): 2600, ('A2', 'F2'): 1800, ('A2', 'F3'): 3500\n",
    "}\n",
    "flight_duration = {'F1': 2, 'F2': 3, 'F3': 1}\n",
    "maintenance_req = {'A1': 5, 'A2': 5}\n",
    "available_slots = {'A1': 2, 'A2': 2}\n",
    "\n",
    "# Create a model\n",
    "model = ConcreteModel()\n",
    "\n",
    "# Define sets\n",
    "model.Flights = Set(initialize=flights)\n",
    "model.TimeSlots = Set(initialize=time_slots)\n",
    "model.Aircraft = Set(initialize=aircraft)\n",
    "\n",
    "# Define variables\n",
    "model.x = Var(model.Flights, model.TimeSlots, within=Binary)\n",
    "model.y = Var(model.Flights, model.Aircraft, within=Binary)\n",
    "\n",
    "# Objective function\n",
    "def obj_rule(model):\n",
    "    return sum(costs[i, j] * model.x[i, j] for i in model.Flights for j in model.TimeSlots) + \\\n",
    "           sum(aircraft_flight_costs[k, i] * model.y[i, k] for i in model.Flights for k in model.Aircraft)\n",
    "model.obj = Objective(rule=obj_rule, sense=minimize)\n",
    "\n",
    "# Constraints\n",
    "def flight_assignment_rule(model, i):\n",
    "    return sum(model.x[i, j] for j in model.TimeSlots) == 1\n",
    "model.flight_assignment = Constraint(model.Flights, rule=flight_assignment_rule)\n",
    "\n",
    "def timeslot_assignment_rule(model, j):\n",
    "    return sum(model.x[i, j] for i in model.Flights) <= 1\n",
    "model.timeslot_assignment = Constraint(model.TimeSlots, rule=timeslot_assignment_rule)\n",
    "\n",
    "def aircraft_assignment_rule(model, i):\n",
    "    return sum(model.y[i, k] for k in model.Aircraft) == 1\n",
    "model.aircraft_assignment = Constraint(model.Flights, rule=aircraft_assignment_rule)\n",
    "\n",
    "def aircraft_limit_rule(model, k):\n",
    "    return sum(model.y[i, k] for i in model.Flights) <= available_slots[k]\n",
    "model.aircraft_limit = Constraint(model.Aircraft, rule=aircraft_limit_rule)\n",
    "\n",
    "def maintenance_rule(model, k):\n",
    "    return sum(flight_duration[i] * model.y[i, k] for i in model.Flights) <= maintenance_req[k]\n",
    "model.maintenance = Constraint(model.Aircraft, rule=maintenance_rule)\n",
    "\n",
    "# Solve the model\n",
    "solver = SolverFactory('glpk')\n",
    "solver.solve(model, tee=True)\n",
    "\n",
    "# Display results\n",
    "for i in model.Flights:\n",
    "    for j in model.TimeSlots:\n",
    "        if model.x[i, j].value == 1:\n",
    "            print(f\"Flight {i} is assigned to time slot {j}\")\n",
    "    for k in model.Aircraft:\n",
    "        if model.y[i, k].value == 1:\n",
    "            print(f\"Flight {i} is assigned to aircraft {k}\")\n"
   ]
  }
 ],
 "metadata": {
  "kernelspec": {
   "display_name": "Python 3 (ipykernel)",
   "language": "python",
   "name": "python3"
  },
  "language_info": {
   "codemirror_mode": {
    "name": "ipython",
    "version": 3
   },
   "file_extension": ".py",
   "mimetype": "text/x-python",
   "name": "python",
   "nbconvert_exporter": "python",
   "pygments_lexer": "ipython3",
   "version": "3.11.7"
  }
 },
 "nbformat": 4,
 "nbformat_minor": 5
}
